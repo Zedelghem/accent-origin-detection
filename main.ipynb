{
 "cells": [
  {
   "cell_type": "code",
   "execution_count": 138,
   "metadata": {},
   "outputs": [],
   "source": [
    "import os\n",
    "import helpers as h\n",
    "import features as f\n",
    "from glob import glob\n",
    "import numpy as np\n",
    "import xgboost as xgb\n",
    "import matplotlib.pyplot as plt\n",
    "\n",
    "# Training XGBoost with best parameters on minimum features\n",
    "\n",
    "# Helper functions assume the directory structure to be:\n",
    "# - project_data/\n",
    "#     - train/\n",
    "#         - sample1.wav/\n",
    "#         - sample2.wav/\n",
    "#     - test_clean/\n",
    "#         - sample1.wav/\n",
    "#         - sample2.wav/\n",
    "#     - test_noisy/\n",
    "#         - sample1.wav/\n",
    "#         - sample2.wav/\n",
    "# - features/\n"
   ]
  },
  {
   "cell_type": "code",
   "execution_count": null,
   "metadata": {},
   "outputs": [
    {
     "name": "stdout",
     "output_type": "stream",
     "text": [
      "Preparing datasets with feature extractor: extract_log_mel_filterbank\n",
      "Parameter values: {'logpower': 2, 'n_mels': 128, 'mean': True, 'std': True, 'variance': True, 'delta': True, 'delta2': True, 'delta3': True, 'hop_length': 256, 'n_fft': 2048}\n"
     ]
    },
    {
     "name": "stderr",
     "output_type": "stream",
     "text": [
      "Processing Training Files: 100%|██████████| 8980/8980 [02:32<00:00, 58.86it/s]\n",
      "Processing Clean Test Files: 100%|██████████| 2533/2533 [00:36<00:00, 68.75it/s]\n",
      "Processing Noisy Test Files: 100%|██████████| 3238/3238 [00:48<00:00, 66.74it/s]\n"
     ]
    },
    {
     "name": "stdout",
     "output_type": "stream",
     "text": [
      "Features and labels saved to features/extract_log_mel_filterbank_logpower-2_n_mels-128_mean-True_std-True_variance-True_delta-True_delta2-True_delta3-True_hop_length-256_n_fft-2048.npz\n"
     ]
    }
   ],
   "source": [
    "# In spite of the name, this is not a grid search. It just runs the feature\n",
    "# extraction function with the given parameters.\n",
    "param_grid = {\n",
    "    \"logpower\": [2],\n",
    "    \"n_mels\": [128],\n",
    "    \"mean\": [True],\n",
    "    \"std\": [True],\n",
    "    \"variance\": [True],\n",
    "    \"delta\": [True],\n",
    "    \"delta2\": [True],\n",
    "    \"delta3\": [True],\n",
    "    \"hop_length\": [256],\n",
    "    \"n_fft\": [2048],\n",
    "    }\n",
    "\n",
    "h.grid_search(param_grid, f.extract_log_mel_filterbank)\n"
   ]
  },
  {
   "cell_type": "code",
   "execution_count": 4,
   "metadata": {},
   "outputs": [
    {
     "name": "stdout",
     "output_type": "stream",
     "text": [
      "Preparing datasets with feature extractor: generate_mfcc\n",
      "Parameter values: {'n_mfcc': 13, 'n_fft': 2048, 'hop_length': 256}\n"
     ]
    },
    {
     "name": "stderr",
     "output_type": "stream",
     "text": [
      "Processing Training Files: 100%|██████████| 8980/8980 [01:18<00:00, 113.80it/s]\n",
      "Processing Clean Test Files: 100%|██████████| 2533/2533 [00:21<00:00, 117.33it/s]\n",
      "Processing Noisy Test Files: 100%|██████████| 3238/3238 [00:28<00:00, 115.59it/s]\n"
     ]
    },
    {
     "name": "stdout",
     "output_type": "stream",
     "text": [
      "Features and labels saved to features/generate_mfcc_n_mfcc-13_n_fft-2048_hop_length-256.npz\n"
     ]
    }
   ],
   "source": [
    "param_grid = {\n",
    "    \"n_mfcc\": [13],\n",
    "    \"n_fft\": [2048],\n",
    "    \"hop_length\": [256],\n",
    "}\n",
    "\n",
    "h.grid_search(param_grid, f.generate_mfcc)\n"
   ]
  },
  {
   "cell_type": "code",
   "execution_count": null,
   "metadata": {},
   "outputs": [
    {
     "name": "stdout",
     "output_type": "stream",
     "text": [
      "Preparing datasets with feature extractor: compute_rms\n",
      "Parameter values: {'hop_length': 512, 'frame_length': 2048}\n"
     ]
    },
    {
     "name": "stderr",
     "output_type": "stream",
     "text": [
      "Processing Training Files: 100%|██████████| 8980/8980 [00:44<00:00, 199.85it/s]\n",
      "Processing Clean Test Files: 100%|██████████| 2533/2533 [00:12<00:00, 205.49it/s]\n",
      "Processing Noisy Test Files: 100%|██████████| 3238/3238 [00:16<00:00, 200.36it/s]\n"
     ]
    },
    {
     "name": "stdout",
     "output_type": "stream",
     "text": [
      "Features and labels saved to features/compute_rms_hop_length-512_frame_length-2048.npz\n"
     ]
    }
   ],
   "source": [
    "param_grid = {\n",
    "    \"hop_length\": [512],\n",
    "    \"frame_length\": [2048],\n",
    "}\n",
    "\n",
    "h.grid_search(param_grid, f.compute_rms)\n"
   ]
  },
  {
   "cell_type": "code",
   "execution_count": null,
   "metadata": {},
   "outputs": [
    {
     "name": "stdout",
     "output_type": "stream",
     "text": [
      "Features saved to features/final/final_combined_features.npz\n"
     ]
    }
   ],
   "source": [
    "# Combining features\n",
    "\n",
    "feature_folder = 'features'\n",
    "feature_files = glob(os.path.join(feature_folder, \"*.npz\"))\n",
    "\n",
    "combined_data_per_name = {}\n",
    "\n",
    "for file in feature_files:\n",
    "    data = np.load(os.path.join(file))\n",
    "    for key in data:\n",
    "        if key not in combined_data_per_name:\n",
    "            combined_data_per_name[key] = []\n",
    "        combined_data_per_name[key].append(data[key])\n",
    "\n",
    "if not os.path.isdir(f\"{feature_folder}/final\"):\n",
    "    os.makedirs(f\"{feature_folder}/final\")\n",
    "\n",
    "final_feats_filename = os.path.join(f\"{feature_folder}/final\", 'final_combined_features.npz')\n",
    "h.combine_and_save_features(combined_data_per_name, final_feats_filename)\n"
   ]
  },
  {
   "cell_type": "code",
   "execution_count": null,
   "metadata": {},
   "outputs": [
    {
     "name": "stdout",
     "output_type": "stream",
     "text": [
      "Train Clean Acc = 1.0\n",
      "Test Clean Acc = 0.7125937623371497\n",
      "Test Noisy Acc = 0.7362569487337863\n"
     ]
    }
   ],
   "source": [
    "final_features = np.load(final_feats_filename)\n",
    "\n",
    "# model = xgb.XGBClassifier(device=\"cuda\")\n",
    "model = xgb.XGBClassifier()\n",
    "model.fit(final_features[\"train_features\"],final_features[\"train_labels\"],)\n",
    "\n",
    "print(\"Train Clean Acc =\", np.sum(final_features[\"train_labels\"]==model.predict(final_features[\"train_features\"]))/len(final_features[\"train_labels\"]))\n",
    "print(\"Test Clean Acc =\", np.sum(final_features[\"test_clean_labels\"]==model.predict(final_features[\"test_clean_features\"]))/len(final_features[\"test_clean_labels\"]))\n",
    "print(\"Test Noisy Acc =\", np.sum(final_features[\"test_noisy_labels\"]==model.predict(final_features[\"test_noisy_features\"]))/len(final_features[\"test_noisy_labels\"]))\n"
   ]
  }
 ],
 "metadata": {
  "kernelspec": {
   "display_name": "speech",
   "language": "python",
   "name": "python3"
  },
  "language_info": {
   "codemirror_mode": {
    "name": "ipython",
    "version": 3
   },
   "file_extension": ".py",
   "mimetype": "text/x-python",
   "name": "python",
   "nbconvert_exporter": "python",
   "pygments_lexer": "ipython3",
   "version": "3.11.0"
  }
 },
 "nbformat": 4,
 "nbformat_minor": 2
}
